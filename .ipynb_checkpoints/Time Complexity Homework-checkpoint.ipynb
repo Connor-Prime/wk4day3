{
 "cells": [
  {
   "cell_type": "code",
   "execution_count": 9,
   "id": "273b3503-efd5-4936-a4de-02125e5ab8b5",
   "metadata": {},
   "outputs": [
    {
     "data": {
      "text/plain": [
       "'9400D3'"
      ]
     },
     "execution_count": 9,
     "metadata": {},
     "output_type": "execute_result"
    }
   ],
   "source": [
    "def toHex(digit):\n",
    "    # All these oppperations are constant\n",
    "    match digit:\n",
    "        case 10:\n",
    "            digit=\"A\"\n",
    "        case 11:\n",
    "            digit=\"B\"\n",
    "        case 12:\n",
    "            digit=\"C\"\n",
    "        case 13:\n",
    "            digit=\"D\"\n",
    "        case 14:\n",
    "            digit = \"E\"\n",
    "        case 15:\n",
    "            digit = \"F\"\n",
    "    # linear based on number of digits, but the digit size is floored at 2 digits (15), it's constant\n",
    "    digit=str(digit)\n",
    "    return digit\n",
    "\n",
    "def rgb(r, g, b):\n",
    "    # constant\n",
    "    output =\"\"\n",
    "    # all constant\n",
    "    if r < 0:\n",
    "        r = 0\n",
    "    if g < 0:\n",
    "        g = 0\n",
    "    if b < 0:\n",
    "        b = 0\n",
    "    #all constant \n",
    "    if r > 255:\n",
    "        r =255\n",
    "    if g > 255:\n",
    "        g =255\n",
    "    if b > 255:\n",
    "        b =255\n",
    "        \n",
    "    # constant (toHex time complexity is shown above.\n",
    "    output+=toHex(r//16)\n",
    "    output+=toHex(r%16)\n",
    "    \n",
    "    output+=toHex(g//16)\n",
    "    output+=toHex(g%16)\n",
    "    \n",
    "    output+=toHex(b//16)\n",
    "    output+=toHex(b%16)\n",
    "\n",
    "    return output\n",
    "\n",
    "# Test cases\n",
    "print(rgb(255,255,255))\n",
    "print(rgb(255, 255, 300))\n",
    "print(rgb(0,0,0))\n",
    "print(rgb(148,0,211))\n",
    "\n",
    "# Expected Output\n",
    "# 255, 255, 255 --> \"FFFFFF\"\n",
    "# 255, 255, 300 --> \"FFFFFF\"\n",
    "# 0, 0, 0       --> \"000000\"\n",
    "# 148, 0, 211   --> \"9400D3\""
   ]
  },
  {
   "cell_type": "code",
   "execution_count": null,
   "id": "3fb7dfca-742f-4953-8885-4f6bc67f8e81",
   "metadata": {},
   "outputs": [],
   "source": []
  },
  {
   "cell_type": "code",
   "execution_count": null,
   "id": "96d6b846-60b1-4625-b1b5-e3e0e4dfb24a",
   "metadata": {},
   "outputs": [],
   "source": []
  }
 ],
 "metadata": {
  "kernelspec": {
   "display_name": "Python 3 (ipykernel)",
   "language": "python",
   "name": "python3"
  },
  "language_info": {
   "codemirror_mode": {
    "name": "ipython",
    "version": 3
   },
   "file_extension": ".py",
   "mimetype": "text/x-python",
   "name": "python",
   "nbconvert_exporter": "python",
   "pygments_lexer": "ipython3",
   "version": "3.11.4"
  }
 },
 "nbformat": 4,
 "nbformat_minor": 5
}
