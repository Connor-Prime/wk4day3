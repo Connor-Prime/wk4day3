{
 "cells": [
  {
   "cell_type": "markdown",
   "id": "75ec1f64-3694-4a02-a93d-98e883c087bc",
   "metadata": {},
   "source": [
    "Time Complexity Problem 1: Constant/ O(1)"
   ]
  },
  {
   "cell_type": "code",
   "execution_count": 10,
   "id": "273b3503-efd5-4936-a4de-02125e5ab8b5",
   "metadata": {},
   "outputs": [
    {
     "name": "stdout",
     "output_type": "stream",
     "text": [
      "FFFFFF\n",
      "FFFFFF\n",
      "000000\n",
      "9400D3\n"
     ]
    }
   ],
   "source": [
    "# The rgb function is incomplete. Complete it so that passing in RGB decimal values will result\n",
    "# in a hexadecimal representation being returned. Valid decimal values for RGB are 0 - 255. \n",
    "# Any values that fall out of that range must be rounded to the closest valid value.\n",
    "\n",
    "# Note: Your answer should always be 6 characters long, the shorthand with 3 will not work here.\n",
    "\n",
    "\n",
    "def toHex(digit):\n",
    "    # All these oppperations are constant\n",
    "    match digit:\n",
    "        case 10:\n",
    "            digit=\"A\"\n",
    "        case 11:\n",
    "            digit=\"B\"\n",
    "        case 12:\n",
    "            digit=\"C\"\n",
    "        case 13:\n",
    "            digit=\"D\"\n",
    "        case 14:\n",
    "            digit = \"E\"\n",
    "        case 15:\n",
    "            digit = \"F\"\n",
    "    # linear based on number of digits, \n",
    "    # but the digit size is floored at 2 digits (15, the higher number has 2 digits), it's effectively constant\n",
    "    digit=str(digit)\n",
    "    return digit\n",
    "\n",
    "def rgb(r, g, b):\n",
    "    # constant\n",
    "    output =\"\"\n",
    "    # all constant\n",
    "    if r < 0:\n",
    "        r = 0\n",
    "    if g < 0:\n",
    "        g = 0\n",
    "    if b < 0:\n",
    "        b = 0\n",
    "    #all constant \n",
    "    if r > 255:\n",
    "        r =255\n",
    "    if g > 255:\n",
    "        g =255\n",
    "    if b > 255:\n",
    "        b =255\n",
    "        \n",
    "    # constant (toHex time complexity is shown above.)\n",
    "    output+=toHex(r//16)\n",
    "    output+=toHex(r%16)\n",
    "    \n",
    "    output+=toHex(g//16)\n",
    "    output+=toHex(g%16)\n",
    "    \n",
    "    output+=toHex(b//16)\n",
    "    output+=toHex(b%16)\n",
    "\n",
    "    return output\n",
    "\n",
    "# Test cases\n",
    "print(rgb(255,255,255))\n",
    "print(rgb(255, 255, 300))\n",
    "print(rgb(0,0,0))\n",
    "print(rgb(148,0,211))\n",
    "\n",
    "# Expected Output\n",
    "# 255, 255, 255 --> \"FFFFFF\"\n",
    "# 255, 255, 300 --> \"FFFFFF\"\n",
    "# 0, 0, 0       --> \"000000\"\n",
    "# 148, 0, 211   --> \"9400D3\""
   ]
  },
  {
   "cell_type": "markdown",
   "id": "91bf28dd-0fab-41b0-9359-5a3eed87655d",
   "metadata": {},
   "source": [
    "Time Complexity Problem 2: Linear/ O(N)"
   ]
  },
  {
   "cell_type": "code",
   "execution_count": 12,
   "id": "c5b4825e-3689-4b1c-b7c9-2364dfe63c10",
   "metadata": {},
   "outputs": [
    {
     "name": "stdout",
     "output_type": "stream",
     "text": [
      "9.0\n",
      "16.5\n",
      "1.0\n"
     ]
    }
   ],
   "source": [
    "# Mean Square Error\n",
    "\n",
    "# Complete the function that\n",
    "\n",
    "# accepts two integer arrays of equal length\n",
    "# compares the value each member in one array to the corresponding member in the other\n",
    "# squares the absolute value difference between those two values\n",
    "# and returns the average of those squared absolute value difference between each member pair.\n",
    "\n",
    "def solution(array_a, array_b):\n",
    "    # Constant\n",
    "    sum = 0\n",
    "    # linear   \n",
    "    for i in range(len(array_a)):\n",
    "\n",
    "        # constant #constant   #constant\n",
    "        temp_sum = array_a[i] - array_b[i]\n",
    "        \n",
    "        #constant\n",
    "        sum = sum + abs(temp_sum)**2\n",
    "    #constont     constant (accessing an attribute)\n",
    "    return (sum / len(array_a))\n",
    "\n",
    "print(solution([1, 2, 3], [4, 5, 6]))\n",
    "print(solution([10, 20, 10, 2], [10, 25, 5, -2] ))\n",
    "print(solution([-1, 0], [0, -1]))\n",
    "# Expected Results\n",
    "# [1, 2, 3], [4, 5, 6]              -->   9   because (9 + 9 + 9) / 3\n",
    "# [10, 20, 10, 2], [10, 25, 5, -2]  -->  16.5 because (0 + 25 + 25 + 16) / 4\n",
    "# [-1, 0], [0, -1]                  -->   1   because (1 + 1) / 2"
   ]
  },
  {
   "cell_type": "markdown",
   "id": "638f76c0-8f15-4982-a2ab-612412a4f1a9",
   "metadata": {},
   "source": [
    "Problem 3: Time Complexity, O(N) or Constant"
   ]
  },
  {
   "cell_type": "code",
   "execution_count": 13,
   "id": "9f4ececa-bf5b-42a1-9993-0f30bfa38da5",
   "metadata": {},
   "outputs": [],
   "source": [
    "# You're given a year n (1583 <= n < 10000). You need to create a function which return True if n is a leap year and False otherwise.\n",
    "\n",
    "# Your code mustn't contain:\n",
    "\n",
    "# def\n",
    "# if\n",
    "# eval or exec\n",
    "# return\n",
    "# import\n",
    "\n",
    "                     # constant       constant              constant\n",
    "is_leap = lambda n: (n % 4 == 0) and (n % 100 != 0) or (n % 400 == 0)\n",
    "\n"
   ]
  }
 ],
 "metadata": {
  "kernelspec": {
   "display_name": "Python 3 (ipykernel)",
   "language": "python",
   "name": "python3"
  },
  "language_info": {
   "codemirror_mode": {
    "name": "ipython",
    "version": 3
   },
   "file_extension": ".py",
   "mimetype": "text/x-python",
   "name": "python",
   "nbconvert_exporter": "python",
   "pygments_lexer": "ipython3",
   "version": "3.11.4"
  }
 },
 "nbformat": 4,
 "nbformat_minor": 5
}
